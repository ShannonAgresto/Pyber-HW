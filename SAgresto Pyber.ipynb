{
 "cells": [
  {
   "cell_type": "code",
   "execution_count": null,
   "metadata": {},
   "outputs": [],
   "source": [
    "#setup --> pandas, matplotlib, numpy\n",
    "import pandas as pd\n",
    "import matplotlib.pyplot as plt\n",
    "import numpy as np\n",
    "\n",
    "#average fare/city\n",
    "#total rides/city\n",
    "#drivers/city\n",
    "#city type\n",
    "# --> bubble plot. pay attn to 'alpha', 'edgecolor', 'linewidths'\n"
   ]
  },
  {
   "cell_type": "code",
   "execution_count": null,
   "metadata": {},
   "outputs": [],
   "source": [
    "#load 2 csv files (ride_data), (city_data), read data, combine data sets --> display\n",
    "ride_data = pd.read_csv(\"data/ride_data.csv\")\n",
    "ride_data.head(5)"
   ]
  },
  {
   "cell_type": "code",
   "execution_count": null,
   "metadata": {},
   "outputs": [],
   "source": [
    "city_data = pd.read_csv(\"data/city_data.csv\")\n",
    "city_data.head(5)"
   ]
  },
  {
   "cell_type": "code",
   "execution_count": null,
   "metadata": {},
   "outputs": [],
   "source": [
    "RIDEDATA_df = pd.DataFrame(ride_data, columns = ['city', 'date', 'fare', 'ride_id'])\n",
    "RIDEDATA_df"
   ]
  },
  {
   "cell_type": "code",
   "execution_count": null,
   "metadata": {},
   "outputs": [],
   "source": [
    "CITYDATA_df = pd.DataFrame(city_data, columns = ['city', 'driver_count', 'type'])\n",
    "CITYDATA_df"
   ]
  },
  {
   "cell_type": "code",
   "execution_count": null,
   "metadata": {},
   "outputs": [],
   "source": [
    "combined_pyber_data = pd.merge(RIDEDATA_df, CITYDATA_df, how='outer', on='city')\n",
    "combined_pyber_data.head(5)"
   ]
  },
  {
   "cell_type": "code",
   "execution_count": null,
   "metadata": {},
   "outputs": [],
   "source": [
    "combined_pyber_data = combined_pyber_data.rename(columns={\"city\":\"City\",\n",
    "                                                        \"date\":\"Date\",\n",
    "                                                        \"fare\":\"Cost\",\n",
    "                                                        \"ride_id\":\"Customer #\",\n",
    "                                                        \"driver_count\":\"Age\",\n",
    "                                                        \"type\":\"Terrain\"})\n",
    "combined_pyber_data.head(5)"
   ]
  },
  {
   "cell_type": "code",
   "execution_count": null,
   "metadata": {},
   "outputs": [],
   "source": [
    "#average fare per city\n",
    "City_group = combined_pyber_data.groupby('City')\n",
    "count_cities = City_group['City'].count()\n",
    "count_cities\n"
   ]
  },
  {
   "cell_type": "code",
   "execution_count": null,
   "metadata": {},
   "outputs": [],
   "source": [
    "#average fare per city = (frequency X data value)/(# of data values)\n",
    "#ave = (rides per city X fare)/total fare\n",
    "\n",
    "total_fare = "
   ]
  },
  {
   "cell_type": "code",
   "execution_count": null,
   "metadata": {},
   "outputs": [],
   "source": []
  }
 ],
 "metadata": {
  "kernelspec": {
   "display_name": "Python 3",
   "language": "python",
   "name": "python3"
  },
  "language_info": {
   "codemirror_mode": {
    "name": "ipython",
    "version": 3
   },
   "file_extension": ".py",
   "mimetype": "text/x-python",
   "name": "python",
   "nbconvert_exporter": "python",
   "pygments_lexer": "ipython3",
   "version": "3.7.1"
  }
 },
 "nbformat": 4,
 "nbformat_minor": 2
}
